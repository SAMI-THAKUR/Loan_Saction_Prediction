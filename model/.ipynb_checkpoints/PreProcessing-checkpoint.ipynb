{
 "cells": [
  {
   "cell_type": "code",
   "execution_count": null,
   "id": "f482a1b7-8369-4bc5-89ba-0e537f3f2ee3",
   "metadata": {},
   "outputs": [],
   "source": [
    "import numpy as np \n",
    "import pandas as pd \n",
    "import matplotlib.pyplot as plt\n",
    "import seaborn as sns"
   ]
  },
  {
   "cell_type": "code",
   "execution_count": null,
   "id": "df04ef4c-b7bd-4c6a-a937-e2e690f942aa",
   "metadata": {},
   "outputs": [],
   "source": [
    "df = pd.read_csv('loan_sanction_train.csv')"
   ]
  },
  {
   "cell_type": "code",
   "execution_count": null,
   "id": "c74a0dff-7ed8-4040-9134-3111ca4ef94f",
   "metadata": {},
   "outputs": [],
   "source": [
    "df.head()\n",
    "df = df.drop('Loan_ID' , axis=1)"
   ]
  },
  {
   "cell_type": "code",
   "execution_count": null,
   "id": "57a2fca2-999d-4d80-926b-4ca30550d57e",
   "metadata": {},
   "outputs": [],
   "source": [
    "df.head()\n",
    "df.describe()\n",
    "df.dtypes"
   ]
  },
  {
   "cell_type": "code",
   "execution_count": 37,
   "id": "1390e261-528a-4295-9b5c-171df0e08d75",
   "metadata": {
    "execution": {
     "iopub.execute_input": "2024-05-25T17:15:51.702550Z",
     "iopub.status.busy": "2024-05-25T17:15:51.701552Z",
     "iopub.status.idle": "2024-05-25T17:15:51.714040Z",
     "shell.execute_reply": "2024-05-25T17:15:51.713040Z",
     "shell.execute_reply.started": "2024-05-25T17:15:51.702550Z"
    }
   },
   "outputs": [
    {
     "data": {
      "text/plain": [
       "Loan_Status\n",
       "Y    422\n",
       "N    192\n",
       "Name: count, dtype: int64"
      ]
     },
     "execution_count": 37,
     "metadata": {},
     "output_type": "execute_result"
    }
   ],
   "source": [
    "df['Loan_Status'].value_counts()"
   ]
  },
  {
   "cell_type": "code",
   "execution_count": null,
   "id": "ffc79821-9d4c-4bb8-b9fb-da007339bbfa",
   "metadata": {},
   "outputs": [],
   "source": [
    "sns.pairplot(df)"
   ]
  },
  {
   "cell_type": "markdown",
   "id": "56fc942c-15e6-405c-b7b2-7f18b2e1f6ad",
   "metadata": {},
   "source": [
    "<h3><mark>Handling missing values</mark></h3>"
   ]
  },
  {
   "cell_type": "code",
   "execution_count": 40,
   "id": "01d37109-772a-4494-ac73-9064a0a71fc4",
   "metadata": {
    "execution": {
     "iopub.execute_input": "2024-05-25T17:15:52.570137Z",
     "iopub.status.busy": "2024-05-25T17:15:52.569172Z",
     "iopub.status.idle": "2024-05-25T17:15:52.590457Z",
     "shell.execute_reply": "2024-05-25T17:15:52.588462Z",
     "shell.execute_reply.started": "2024-05-25T17:15:52.569172Z"
    }
   },
   "outputs": [
    {
     "data": {
      "text/plain": [
       "Gender               13\n",
       "Married               3\n",
       "Dependents           15\n",
       "Education             0\n",
       "Self_Employed        32\n",
       "ApplicantIncome       0\n",
       "CoapplicantIncome     0\n",
       "LoanAmount           22\n",
       "Loan_Amount_Term     14\n",
       "Credit_History       50\n",
       "Property_Area         0\n",
       "Loan_Status           0\n",
       "dtype: int64"
      ]
     },
     "execution_count": 40,
     "metadata": {},
     "output_type": "execute_result"
    }
   ],
   "source": [
    "df.isna().sum()"
   ]
  },
  {
   "cell_type": "markdown",
   "id": "a2127923-ea23-4c5b-a1a2-fc277ddd0162",
   "metadata": {},
   "source": [
    "<h3>if Dependents is null then set it to 0</h3>"
   ]
  },
  {
   "cell_type": "code",
   "execution_count": 41,
   "id": "810c35c5-a97b-450d-9768-8e6bd3151067",
   "metadata": {
    "execution": {
     "iopub.execute_input": "2024-05-25T17:15:53.163881Z",
     "iopub.status.busy": "2024-05-25T17:15:53.163881Z",
     "iopub.status.idle": "2024-05-25T17:15:53.184409Z",
     "shell.execute_reply": "2024-05-25T17:15:53.183412Z",
     "shell.execute_reply.started": "2024-05-25T17:15:53.163881Z"
    }
   },
   "outputs": [],
   "source": [
    "df['Dependents'] = df['Dependents'].fillna('0');"
   ]
  },
  {
   "cell_type": "markdown",
   "id": "e6e732b8-1d85-4b0a-af6f-26bd53c31594",
   "metadata": {},
   "source": [
    "<h3>if Self Employed is null set it to No</h3>"
   ]
  },
  {
   "cell_type": "code",
   "execution_count": 42,
   "id": "6f6d2de2-ea12-4d8c-81f2-9283e0efa2b8",
   "metadata": {
    "execution": {
     "iopub.execute_input": "2024-05-25T17:15:53.715582Z",
     "iopub.status.busy": "2024-05-25T17:15:53.715582Z",
     "iopub.status.idle": "2024-05-25T17:15:53.729112Z",
     "shell.execute_reply": "2024-05-25T17:15:53.729112Z",
     "shell.execute_reply.started": "2024-05-25T17:15:53.715582Z"
    }
   },
   "outputs": [],
   "source": [
    "df['Self_Employed'] = df['Self_Employed'].fillna('No');"
   ]
  },
  {
   "cell_type": "markdown",
   "id": "8a94fc95-d5af-4d05-a08b-adc22f175a64",
   "metadata": {},
   "source": [
    "<h3>Dropping null values from Gender, Loan amnt, Loan amnt term, Credit History</h3>"
   ]
  },
  {
   "cell_type": "code",
   "execution_count": 43,
   "id": "e2aa1bdc-6eb9-4701-b8e7-6639fd4c6c6f",
   "metadata": {
    "execution": {
     "iopub.execute_input": "2024-05-25T17:15:54.246925Z",
     "iopub.status.busy": "2024-05-25T17:15:54.246925Z",
     "iopub.status.idle": "2024-05-25T17:15:54.253910Z",
     "shell.execute_reply": "2024-05-25T17:15:54.253910Z",
     "shell.execute_reply.started": "2024-05-25T17:15:54.246925Z"
    }
   },
   "outputs": [],
   "source": [
    "df.dropna(subset=[\"Gender\", \"LoanAmount\", \"Loan_Amount_Term\", \"Credit_History\" , \"Married\"], inplace=True)"
   ]
  },
  {
   "cell_type": "markdown",
   "id": "152bc578-bdc4-4894-92c5-8e61d3839599",
   "metadata": {},
   "source": [
    "<h3><mark>Converting the binary categorical data in boolean format</mark></h3>"
   ]
  },
  {
   "cell_type": "code",
   "execution_count": 44,
   "id": "8c84f637-f959-4850-a29b-5a695860d831",
   "metadata": {
    "execution": {
     "iopub.execute_input": "2024-05-25T17:15:54.783941Z",
     "iopub.status.busy": "2024-05-25T17:15:54.783941Z",
     "iopub.status.idle": "2024-05-25T17:15:54.801954Z",
     "shell.execute_reply": "2024-05-25T17:15:54.800956Z",
     "shell.execute_reply.started": "2024-05-25T17:15:54.783941Z"
    }
   },
   "outputs": [
    {
     "name": "stdout",
     "output_type": "stream",
     "text": [
      "['Male' 'Female']\n",
      "['No' 'Yes']\n",
      "['Graduate' 'Not Graduate']\n",
      "['Yes' 'No']\n",
      "[1. 0.]\n"
     ]
    }
   ],
   "source": [
    "print(df['Gender'].unique())\n",
    "print(df['Self_Employed'].unique())\n",
    "print(df['Education'].unique())\n",
    "print(df['Married'].unique())\n",
    "print(df['Credit_History'].unique())"
   ]
  },
  {
   "cell_type": "code",
   "execution_count": 45,
   "id": "67eba906-0d75-486a-a368-e2e7c2a05bc8",
   "metadata": {
    "execution": {
     "iopub.execute_input": "2024-05-25T17:15:55.126470Z",
     "iopub.status.busy": "2024-05-25T17:15:55.125422Z",
     "iopub.status.idle": "2024-05-25T17:15:55.145809Z",
     "shell.execute_reply": "2024-05-25T17:15:55.145305Z",
     "shell.execute_reply.started": "2024-05-25T17:15:55.126470Z"
    }
   },
   "outputs": [],
   "source": [
    "OHE = pd.get_dummies(df[['Gender','Self_Employed','Education','Married','Credit_History']],drop_first=True)"
   ]
  },
  {
   "cell_type": "code",
   "execution_count": 46,
   "id": "c96fdd3e-c3ea-4f7a-833e-64885312290c",
   "metadata": {
    "execution": {
     "iopub.execute_input": "2024-05-25T17:15:55.663011Z",
     "iopub.status.busy": "2024-05-25T17:15:55.661981Z",
     "iopub.status.idle": "2024-05-25T17:15:55.673032Z",
     "shell.execute_reply": "2024-05-25T17:15:55.672033Z",
     "shell.execute_reply.started": "2024-05-25T17:15:55.663011Z"
    }
   },
   "outputs": [],
   "source": [
    "df =  pd.concat([df.drop(columns=['Gender','Self_Employed','Education','Married','Credit_History']),OHE],axis=1)"
   ]
  },
  {
   "cell_type": "code",
   "execution_count": 59,
   "id": "d5de0407-db5e-4309-8a3d-2b29d72d7ff1",
   "metadata": {
    "execution": {
     "iopub.execute_input": "2024-05-25T17:20:21.013970Z",
     "iopub.status.busy": "2024-05-25T17:20:21.013970Z",
     "iopub.status.idle": "2024-05-25T17:20:21.027425Z",
     "shell.execute_reply": "2024-05-25T17:20:21.027425Z",
     "shell.execute_reply.started": "2024-05-25T17:20:21.013970Z"
    }
   },
   "outputs": [],
   "source": [
    "OHE = pd.get_dummies(df[['Dependents','Property_Area']])"
   ]
  },
  {
   "cell_type": "code",
   "execution_count": 60,
   "id": "59e1432b-9495-4dfc-af77-b7548de0c14d",
   "metadata": {
    "execution": {
     "iopub.execute_input": "2024-05-25T17:20:30.303942Z",
     "iopub.status.busy": "2024-05-25T17:20:30.303942Z",
     "iopub.status.idle": "2024-05-25T17:20:30.322537Z",
     "shell.execute_reply": "2024-05-25T17:20:30.321565Z",
     "shell.execute_reply.started": "2024-05-25T17:20:30.303942Z"
    }
   },
   "outputs": [],
   "source": [
    "df =  pd.concat([df.drop(columns=['Dependents','Property_Area']),OHE],axis=1)"
   ]
  }
 ],
 "metadata": {
  "kernelspec": {
   "display_name": "Python 3 (ipykernel)",
   "language": "python",
   "name": "python3"
  },
  "language_info": {
   "codemirror_mode": {
    "name": "ipython",
    "version": 3
   },
   "file_extension": ".py",
   "mimetype": "text/x-python",
   "name": "python",
   "nbconvert_exporter": "python",
   "pygments_lexer": "ipython3",
   "version": "3.10.0"
  }
 },
 "nbformat": 4,
 "nbformat_minor": 5
}
