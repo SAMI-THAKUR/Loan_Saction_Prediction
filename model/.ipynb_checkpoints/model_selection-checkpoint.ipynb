{
 "cells": [
  {
   "cell_type": "code",
   "execution_count": 1,
   "id": "f728e30a-7560-43a4-af2c-499fa9e2e9b9",
   "metadata": {
    "execution": {
     "iopub.execute_input": "2024-05-26T09:18:10.392844Z",
     "iopub.status.busy": "2024-05-26T09:18:10.392844Z",
     "iopub.status.idle": "2024-05-26T09:18:11.406500Z",
     "shell.execute_reply": "2024-05-26T09:18:11.404497Z",
     "shell.execute_reply.started": "2024-05-26T09:18:10.392844Z"
    }
   },
   "outputs": [],
   "source": [
    "import numpy as np \n",
    "import pandas as pd \n",
    "import matplotlib.pyplot  as plt\n",
    "import seaborn as sns"
   ]
  },
  {
   "cell_type": "code",
   "execution_count": 2,
   "id": "1556917f-58b4-46ed-a4e9-24325a43071d",
   "metadata": {
    "execution": {
     "iopub.execute_input": "2024-05-26T09:18:11.409491Z",
     "iopub.status.busy": "2024-05-26T09:18:11.408494Z",
     "iopub.status.idle": "2024-05-26T09:18:11.419473Z",
     "shell.execute_reply": "2024-05-26T09:18:11.419473Z",
     "shell.execute_reply.started": "2024-05-26T09:18:11.409491Z"
    }
   },
   "outputs": [],
   "source": [
    "df = pd.read_csv('final_loan_sansaction.csv')"
   ]
  },
  {
   "cell_type": "code",
   "execution_count": 3,
   "id": "b8aad40a-1802-4f75-beb5-fdc895fc1747",
   "metadata": {
    "execution": {
     "iopub.execute_input": "2024-05-26T09:18:11.421480Z",
     "iopub.status.busy": "2024-05-26T09:18:11.421480Z",
     "iopub.status.idle": "2024-05-26T09:18:11.451364Z",
     "shell.execute_reply": "2024-05-26T09:18:11.450366Z",
     "shell.execute_reply.started": "2024-05-26T09:18:11.421480Z"
    }
   },
   "outputs": [
    {
     "data": {
      "text/html": [
       "<div>\n",
       "<style scoped>\n",
       "    .dataframe tbody tr th:only-of-type {\n",
       "        vertical-align: middle;\n",
       "    }\n",
       "\n",
       "    .dataframe tbody tr th {\n",
       "        vertical-align: top;\n",
       "    }\n",
       "\n",
       "    .dataframe thead th {\n",
       "        text-align: right;\n",
       "    }\n",
       "</style>\n",
       "<table border=\"1\" class=\"dataframe\">\n",
       "  <thead>\n",
       "    <tr style=\"text-align: right;\">\n",
       "      <th></th>\n",
       "      <th>ApplicantIncome</th>\n",
       "      <th>CoapplicantIncome</th>\n",
       "      <th>LoanAmount</th>\n",
       "      <th>Loan_Amount_Term</th>\n",
       "      <th>Loan_Status</th>\n",
       "      <th>Credit_History</th>\n",
       "      <th>Gender_Male</th>\n",
       "      <th>Self_Employed_Yes</th>\n",
       "      <th>Education_Not Graduate</th>\n",
       "      <th>Married_Yes</th>\n",
       "      <th>Dependents_0</th>\n",
       "      <th>Dependents_1</th>\n",
       "      <th>Dependents_2</th>\n",
       "      <th>Dependents_3+</th>\n",
       "      <th>Property_Area_Rural</th>\n",
       "      <th>Property_Area_Semiurban</th>\n",
       "      <th>Property_Area_Urban</th>\n",
       "    </tr>\n",
       "  </thead>\n",
       "  <tbody>\n",
       "    <tr>\n",
       "      <th>0</th>\n",
       "      <td>4583</td>\n",
       "      <td>1508.0</td>\n",
       "      <td>128.0</td>\n",
       "      <td>360.0</td>\n",
       "      <td>N</td>\n",
       "      <td>1.0</td>\n",
       "      <td>True</td>\n",
       "      <td>False</td>\n",
       "      <td>False</td>\n",
       "      <td>True</td>\n",
       "      <td>False</td>\n",
       "      <td>True</td>\n",
       "      <td>False</td>\n",
       "      <td>False</td>\n",
       "      <td>True</td>\n",
       "      <td>False</td>\n",
       "      <td>False</td>\n",
       "    </tr>\n",
       "    <tr>\n",
       "      <th>1</th>\n",
       "      <td>3000</td>\n",
       "      <td>0.0</td>\n",
       "      <td>66.0</td>\n",
       "      <td>360.0</td>\n",
       "      <td>Y</td>\n",
       "      <td>1.0</td>\n",
       "      <td>True</td>\n",
       "      <td>True</td>\n",
       "      <td>False</td>\n",
       "      <td>True</td>\n",
       "      <td>True</td>\n",
       "      <td>False</td>\n",
       "      <td>False</td>\n",
       "      <td>False</td>\n",
       "      <td>False</td>\n",
       "      <td>False</td>\n",
       "      <td>True</td>\n",
       "    </tr>\n",
       "    <tr>\n",
       "      <th>2</th>\n",
       "      <td>2583</td>\n",
       "      <td>2358.0</td>\n",
       "      <td>120.0</td>\n",
       "      <td>360.0</td>\n",
       "      <td>Y</td>\n",
       "      <td>1.0</td>\n",
       "      <td>True</td>\n",
       "      <td>False</td>\n",
       "      <td>True</td>\n",
       "      <td>True</td>\n",
       "      <td>True</td>\n",
       "      <td>False</td>\n",
       "      <td>False</td>\n",
       "      <td>False</td>\n",
       "      <td>False</td>\n",
       "      <td>False</td>\n",
       "      <td>True</td>\n",
       "    </tr>\n",
       "    <tr>\n",
       "      <th>3</th>\n",
       "      <td>6000</td>\n",
       "      <td>0.0</td>\n",
       "      <td>141.0</td>\n",
       "      <td>360.0</td>\n",
       "      <td>Y</td>\n",
       "      <td>1.0</td>\n",
       "      <td>True</td>\n",
       "      <td>False</td>\n",
       "      <td>False</td>\n",
       "      <td>False</td>\n",
       "      <td>True</td>\n",
       "      <td>False</td>\n",
       "      <td>False</td>\n",
       "      <td>False</td>\n",
       "      <td>False</td>\n",
       "      <td>False</td>\n",
       "      <td>True</td>\n",
       "    </tr>\n",
       "    <tr>\n",
       "      <th>4</th>\n",
       "      <td>2333</td>\n",
       "      <td>1516.0</td>\n",
       "      <td>95.0</td>\n",
       "      <td>360.0</td>\n",
       "      <td>Y</td>\n",
       "      <td>1.0</td>\n",
       "      <td>True</td>\n",
       "      <td>False</td>\n",
       "      <td>True</td>\n",
       "      <td>True</td>\n",
       "      <td>True</td>\n",
       "      <td>False</td>\n",
       "      <td>False</td>\n",
       "      <td>False</td>\n",
       "      <td>False</td>\n",
       "      <td>False</td>\n",
       "      <td>True</td>\n",
       "    </tr>\n",
       "  </tbody>\n",
       "</table>\n",
       "</div>"
      ],
      "text/plain": [
       "   ApplicantIncome  CoapplicantIncome  LoanAmount  Loan_Amount_Term  \\\n",
       "0             4583             1508.0       128.0             360.0   \n",
       "1             3000                0.0        66.0             360.0   \n",
       "2             2583             2358.0       120.0             360.0   \n",
       "3             6000                0.0       141.0             360.0   \n",
       "4             2333             1516.0        95.0             360.0   \n",
       "\n",
       "  Loan_Status  Credit_History  Gender_Male  Self_Employed_Yes  \\\n",
       "0           N             1.0         True              False   \n",
       "1           Y             1.0         True               True   \n",
       "2           Y             1.0         True              False   \n",
       "3           Y             1.0         True              False   \n",
       "4           Y             1.0         True              False   \n",
       "\n",
       "   Education_Not Graduate  Married_Yes  Dependents_0  Dependents_1  \\\n",
       "0                   False         True         False          True   \n",
       "1                   False         True          True         False   \n",
       "2                    True         True          True         False   \n",
       "3                   False        False          True         False   \n",
       "4                    True         True          True         False   \n",
       "\n",
       "   Dependents_2  Dependents_3+  Property_Area_Rural  Property_Area_Semiurban  \\\n",
       "0         False          False                 True                    False   \n",
       "1         False          False                False                    False   \n",
       "2         False          False                False                    False   \n",
       "3         False          False                False                    False   \n",
       "4         False          False                False                    False   \n",
       "\n",
       "   Property_Area_Urban  \n",
       "0                False  \n",
       "1                 True  \n",
       "2                 True  \n",
       "3                 True  \n",
       "4                 True  "
      ]
     },
     "execution_count": 3,
     "metadata": {},
     "output_type": "execute_result"
    }
   ],
   "source": [
    "df = df.drop('Unnamed: 0' , axis=1)\n",
    "df.head()"
   ]
  },
  {
   "cell_type": "code",
   "execution_count": 4,
   "id": "beb3d871-2302-45ca-b2ec-73b625a407b4",
   "metadata": {
    "execution": {
     "iopub.execute_input": "2024-05-26T09:18:11.454356Z",
     "iopub.status.busy": "2024-05-26T09:18:11.453358Z",
     "iopub.status.idle": "2024-05-26T09:18:11.466324Z",
     "shell.execute_reply": "2024-05-26T09:18:11.466324Z",
     "shell.execute_reply.started": "2024-05-26T09:18:11.454356Z"
    }
   },
   "outputs": [],
   "source": [
    "X = df.drop('Loan_Status' , axis=1)\n",
    "y = df['Loan_Status']"
   ]
  },
  {
   "cell_type": "code",
   "execution_count": 5,
   "id": "6194069e-902d-4cff-9c16-f917665b9c29",
   "metadata": {
    "execution": {
     "iopub.execute_input": "2024-05-26T09:18:11.468319Z",
     "iopub.status.busy": "2024-05-26T09:18:11.468319Z",
     "iopub.status.idle": "2024-05-26T09:18:11.592206Z",
     "shell.execute_reply": "2024-05-26T09:18:11.591253Z",
     "shell.execute_reply.started": "2024-05-26T09:18:11.468319Z"
    }
   },
   "outputs": [
    {
     "data": {
      "text/plain": [
       "<Axes: xlabel='count', ylabel='Loan_Status'>"
      ]
     },
     "execution_count": 5,
     "metadata": {},
     "output_type": "execute_result"
    },
    {
     "data": {
      "image/png": "[encoded data removed]",
      "text/plain": [
       "<Figure size 640x480 with 1 Axes>"
      ]
     },
     "metadata": {},
     "output_type": "display_data"
    }
   ],
   "source": [
    "sns.countplot(data=y)"
   ]
  },
  {
   "cell_type": "markdown",
   "id": "f92bd234-d63e-4f7b-b416-6457297b347b",
   "metadata": {},
   "source": [
    "<mark>The data is highly imbalanced which is not good for a classification model</mark>"
   ]
  },
  {
   "cell_type": "markdown",
   "id": "22a1218f-4adf-441f-b3bc-cd47f0dcb76f",
   "metadata": {},
   "source": [
    "<h3><mark>Synthetic data generated by SMOTE</mark></h3>"
   ]
  },
  {
   "cell_type": "code",
   "execution_count": 6,
   "id": "ebb36077-5290-479d-ae48-43c0f3fcfd72",
   "metadata": {
    "execution": {
     "iopub.execute_input": "2024-05-26T09:18:11.595224Z",
     "iopub.status.busy": "2024-05-26T09:18:11.595224Z",
     "iopub.status.idle": "2024-05-26T09:18:12.012996Z",
     "shell.execute_reply": "2024-05-26T09:18:12.012996Z",
     "shell.execute_reply.started": "2024-05-26T09:18:11.595224Z"
    }
   },
   "outputs": [],
   "source": [
    "from imblearn.over_sampling import SMOTE\n",
    "\n",
    "# Assuming X and y are your features and target variable\n",
    "smote = SMOTE()\n",
    "X, y = smote.fit_resample(X, y)"
   ]
  },
  {
   "cell_type": "code",
   "execution_count": 7,
   "id": "68555529-b20b-4620-9b3a-397b05f7e3e6",
   "metadata": {
    "execution": {
     "iopub.execute_input": "2024-05-26T09:18:12.013993Z",
     "iopub.status.busy": "2024-05-26T09:18:12.013993Z",
     "iopub.status.idle": "2024-05-26T09:18:12.125554Z",
     "shell.execute_reply": "2024-05-26T09:18:12.124768Z",
     "shell.execute_reply.started": "2024-05-26T09:18:12.013993Z"
    }
   },
   "outputs": [
    {
     "data": {
      "text/plain": [
       "<Axes: xlabel='count', ylabel='Loan_Status'>"
      ]
     },
     "execution_count": 7,
     "metadata": {},
     "output_type": "execute_result"
    },
    {
     "data": {
      "image/png": "[encoded data removed]",
      "text/plain": [
       "<Figure size 640x480 with 1 Axes>"
      ]
     },
     "metadata": {},
     "output_type": "display_data"
    }
   ],
   "source": [
    "sns.countplot(data=y)"
   ]
  },
  {
   "cell_type": "code",
   "execution_count": 8,
   "id": "dae93254-60f0-436c-bf13-a2089257b679",
   "metadata": {
    "execution": {
     "iopub.execute_input": "2024-05-26T09:18:12.126557Z",
     "iopub.status.busy": "2024-05-26T09:18:12.126557Z",
     "iopub.status.idle": "2024-05-26T09:18:12.141296Z",
     "shell.execute_reply": "2024-05-26T09:18:12.140521Z",
     "shell.execute_reply.started": "2024-05-26T09:18:12.126557Z"
    }
   },
   "outputs": [],
   "source": [
    "from sklearn.metrics import classification_report,ConfusionMatrixDisplay,accuracy_score"
   ]
  },
  {
   "cell_type": "markdown",
   "id": "265a01a6-6a22-4325-9850-3956fbfcfc8d",
   "metadata": {},
   "source": [
    "<h3><mark>Defining a function run a evaluate the models</mark></h3>"
   ]
  },
  {
   "cell_type": "code",
   "execution_count": 9,
   "id": "77223f79-a17e-4af5-84bf-7ceb8d7cdaf0",
   "metadata": {
    "execution": {
     "iopub.execute_input": "2024-05-26T09:18:12.142298Z",
     "iopub.status.busy": "2024-05-26T09:18:12.141296Z",
     "iopub.status.idle": "2024-05-26T09:18:12.156263Z",
     "shell.execute_reply": "2024-05-26T09:18:12.156263Z",
     "shell.execute_reply.started": "2024-05-26T09:18:12.142298Z"
    }
   },
   "outputs": [],
   "source": [
    "def run_model(model,X_train,y_train,X_test,y_test):\n",
    "    \n",
    "    # Fit Model\n",
    "    model.fit(X_train,y_train)\n",
    "    # Get Metrics\n",
    "    preds = model.predict(X_test)\n",
    "    print(\"accuracy \" , accuracy_score(y_test,preds)*100)\n",
    "    print(classification_report(y_test,preds))\n",
    "    ConfusionMatrixDisplay.from_predictions(y_test,preds)"
   ]
  },
  {
   "cell_type": "markdown",
   "id": "f263378b-2048-414a-b908-ba033e8cbc84",
   "metadata": {},
   "source": [
    "<h3><mark>Train Test Split and StandardScaler the data</mark></h3>"
   ]
  },
  {
   "cell_type": "code",
   "execution_count": 10,
   "id": "2200861a-127b-414d-be5d-2418fcf1ef9a",
   "metadata": {
    "execution": {
     "iopub.execute_input": "2024-05-26T09:18:12.158253Z",
     "iopub.status.busy": "2024-05-26T09:18:12.157256Z",
     "iopub.status.idle": "2024-05-26T09:18:12.172641Z",
     "shell.execute_reply": "2024-05-26T09:18:12.171859Z",
     "shell.execute_reply.started": "2024-05-26T09:18:12.158253Z"
    }
   },
   "outputs": [],
   "source": [
    "from sklearn.model_selection import train_test_split"
   ]
  },
  {
   "cell_type": "code",
   "execution_count": 11,
   "id": "eb30ab42-1db2-4874-b5b2-655210b3b530",
   "metadata": {
    "execution": {
     "iopub.execute_input": "2024-05-26T09:18:12.173641Z",
     "iopub.status.busy": "2024-05-26T09:18:12.172641Z",
     "iopub.status.idle": "2024-05-26T09:18:12.187493Z",
     "shell.execute_reply": "2024-05-26T09:18:12.187493Z",
     "shell.execute_reply.started": "2024-05-26T09:18:12.173641Z"
    }
   },
   "outputs": [],
   "source": [
    "X_train, X_test, y_train, y_test = train_test_split(X, y, test_size=0.33, random_state=42)"
   ]
  },
  {
   "cell_type": "code",
   "execution_count": 12,
   "id": "546d7796-b1f1-4ad7-898c-903523d8c3b7",
   "metadata": {
    "execution": {
     "iopub.execute_input": "2024-05-26T09:18:12.188483Z",
     "iopub.status.busy": "2024-05-26T09:18:12.188483Z",
     "iopub.status.idle": "2024-05-26T09:18:12.203222Z",
     "shell.execute_reply": "2024-05-26T09:18:12.202464Z",
     "shell.execute_reply.started": "2024-05-26T09:18:12.188483Z"
    }
   },
   "outputs": [],
   "source": [
    "from sklearn.preprocessing import StandardScaler"
   ]
  },
  {
   "cell_type": "code",
   "execution_count": 13,
   "id": "bfa3cd1c-0d3b-4632-b56a-1b169881c862",
   "metadata": {
    "execution": {
     "iopub.execute_input": "2024-05-26T09:18:12.206216Z",
     "iopub.status.busy": "2024-05-26T09:18:12.205220Z",
     "iopub.status.idle": "2024-05-26T09:18:12.219185Z",
     "shell.execute_reply": "2024-05-26T09:18:12.218185Z",
     "shell.execute_reply.started": "2024-05-26T09:18:12.206216Z"
    }
   },
   "outputs": [],
   "source": [
    "standard = StandardScaler()"
   ]
  },
  {
   "cell_type": "code",
   "execution_count": 14,
   "id": "e67bd6f7-bfee-41d7-8f05-ef88845010cf",
   "metadata": {
    "execution": {
     "iopub.execute_input": "2024-05-26T09:18:12.220181Z",
     "iopub.status.busy": "2024-05-26T09:18:12.220181Z",
     "iopub.status.idle": "2024-05-26T09:18:12.233146Z",
     "shell.execute_reply": "2024-05-26T09:18:12.233146Z",
     "shell.execute_reply.started": "2024-05-26T09:18:12.220181Z"
    }
   },
   "outputs": [
    {
     "data": {
      "text/html": [
       "<style>#sk-container-id-1 {color: black;}#sk-container-id-1 pre{padding: 0;}#sk-container-id-1 div.sk-toggleable {background-color: white;}#sk-container-id-1 label.sk-toggleable__label {cursor: pointer;display: block;width: 100%;margin-bottom: 0;padding: 0.3em;box-sizing: border-box;text-align: center;}#sk-container-id-1 label.sk-toggleable__label-arrow:before {content: \"▸\";float: left;margin-right: 0.25em;color: #696969;}#sk-container-id-1 label.sk-toggleable__label-arrow:hover:before {color: black;}#sk-container-id-1 div.sk-estimator:hover label.sk-toggleable__label-arrow:before {color: black;}#sk-container-id-1 div.sk-toggleable__content {max-height: 0;max-width: 0;overflow: hidden;text-align: left;background-color: #f0f8ff;}#sk-container-id-1 div.sk-toggleable__content pre {margin: 0.2em;color: black;border-radius: 0.25em;background-color: #f0f8ff;}#sk-container-id-1 input.sk-toggleable__control:checked~div.sk-toggleable__content {max-height: 200px;max-width: 100%;overflow: auto;}#sk-container-id-1 input.sk-toggleable__control:checked~label.sk-toggleable__label-arrow:before {content: \"▾\";}#sk-container-id-1 div.sk-estimator input.sk-toggleable__control:checked~label.sk-toggleable__label {background-color: #d4ebff;}#sk-container-id-1 div.sk-label input.sk-toggleable__control:checked~label.sk-toggleable__label {background-color: #d4ebff;}#sk-container-id-1 input.sk-hidden--visually {border: 0;clip: rect(1px 1px 1px 1px);clip: rect(1px, 1px, 1px, 1px);height: 1px;margin: -1px;overflow: hidden;padding: 0;position: absolute;width: 1px;}#sk-container-id-1 div.sk-estimator {font-family: monospace;background-color: #f0f8ff;border: 1px dotted black;border-radius: 0.25em;box-sizing: border-box;margin-bottom: 0.5em;}#sk-container-id-1 div.sk-estimator:hover {background-color: #d4ebff;}#sk-container-id-1 div.sk-parallel-item::after {content: \"\";width: 100%;border-bottom: 1px solid gray;flex-grow: 1;}#sk-container-id-1 div.sk-label:hover label.sk-toggleable__label {background-color: #d4ebff;}#sk-container-id-1 div.sk-serial::before {content: \"\";position: absolute;border-left: 1px solid gray;box-sizing: border-box;top: 0;bottom: 0;left: 50%;z-index: 0;}#sk-container-id-1 div.sk-serial {display: flex;flex-direction: column;align-items: center;background-color: white;padding-right: 0.2em;padding-left: 0.2em;position: relative;}#sk-container-id-1 div.sk-item {position: relative;z-index: 1;}#sk-container-id-1 div.sk-parallel {display: flex;align-items: stretch;justify-content: center;background-color: white;position: relative;}#sk-container-id-1 div.sk-item::before, #sk-container-id-1 div.sk-parallel-item::before {content: \"\";position: absolute;border-left: 1px solid gray;box-sizing: border-box;top: 0;bottom: 0;left: 50%;z-index: -1;}#sk-container-id-1 div.sk-parallel-item {display: flex;flex-direction: column;z-index: 1;position: relative;background-color: white;}#sk-container-id-1 div.sk-parallel-item:first-child::after {align-self: flex-end;width: 50%;}#sk-container-id-1 div.sk-parallel-item:last-child::after {align-self: flex-start;width: 50%;}#sk-container-id-1 div.sk-parallel-item:only-child::after {width: 0;}#sk-container-id-1 div.sk-dashed-wrapped {border: 1px dashed gray;margin: 0 0.4em 0.5em 0.4em;box-sizing: border-box;padding-bottom: 0.4em;background-color: white;}#sk-container-id-1 div.sk-label label {font-family: monospace;font-weight: bold;display: inline-block;line-height: 1.2em;}#sk-container-id-1 div.sk-label-container {text-align: center;}#sk-container-id-1 div.sk-container {/* jupyter's `normalize.less` sets `[hidden] { display: none; }` but bootstrap.min.css set `[hidden] { display: none !important; }` so we also need the `!important` here to be able to override the default hidden behavior on the sphinx rendered scikit-learn.org. See: https://github.com/scikit-learn/scikit-learn/issues/21755 */display: inline-block !important;position: relative;}#sk-container-id-1 div.sk-text-repr-fallback {display: none;}</style><div id=\"sk-container-id-1\" class=\"sk-top-container\"><div class=\"sk-text-repr-fallback\"><pre>StandardScaler()</pre><b>In a Jupyter environment, please rerun this cell to show the HTML representation or trust the notebook. <br />On GitHub, the HTML representation is unable to render, please try loading this page with nbviewer.org.</b></div><div class=\"sk-container\" hidden><div class=\"sk-item\"><div class=\"sk-estimator sk-toggleable\"><input class=\"sk-toggleable__control sk-hidden--visually\" id=\"sk-estimator-id-1\" type=\"checkbox\" checked><label for=\"sk-estimator-id-1\" class=\"sk-toggleable__label sk-toggleable__label-arrow\">StandardScaler</label><div class=\"sk-toggleable__content\"><pre>StandardScaler()</pre></div></div></div></div></div>"
      ],
      "text/plain": [
       "StandardScaler()"
      ]
     },
     "execution_count": 14,
     "metadata": {},
     "output_type": "execute_result"
    }
   ],
   "source": [
    "standard.fit(X_train)"
   ]
  },
  {
   "cell_type": "code",
   "execution_count": 15,
   "id": "c0ab2b53-dc61-4ed0-9460-45e9d0d526b3",
   "metadata": {
    "execution": {
     "iopub.execute_input": "2024-05-26T09:18:12.235141Z",
     "iopub.status.busy": "2024-05-26T09:18:12.234143Z",
     "iopub.status.idle": "2024-05-26T09:18:12.249102Z",
     "shell.execute_reply": "2024-05-26T09:18:12.249102Z",
     "shell.execute_reply.started": "2024-05-26T09:18:12.235141Z"
    }
   },
   "outputs": [],
   "source": [
    "X_train = standard.transform(X_train)\n",
    "X_test = standard.transform(X_test)"
   ]
  },
  {
   "cell_type": "markdown",
   "id": "2d8d5134-ccd4-4171-82ac-5749b411a8d6",
   "metadata": {},
   "source": [
    "<h3><mark>Support Vector Classifier</mark></h3>"
   ]
  },
  {
   "cell_type": "code",
   "execution_count": 16,
   "id": "d98373aa-7d39-42de-90ca-7f178bb82648",
   "metadata": {
    "execution": {
     "iopub.execute_input": "2024-05-26T09:18:12.251097Z",
     "iopub.status.busy": "2024-05-26T09:18:12.250101Z",
     "iopub.status.idle": "2024-05-26T09:18:12.264322Z",
     "shell.execute_reply": "2024-05-26T09:18:12.264322Z",
     "shell.execute_reply.started": "2024-05-26T09:18:12.251097Z"
    }
   },
   "outputs": [],
   "source": [
    "from sklearn.svm import SVC\n",
    "from sklearn.model_selection import GridSearchCV"
   ]
  },
  {
   "cell_type": "code",
   "execution_count": 17,
   "id": "c18f9cd9-670b-4e70-abdb-d0c00e4f29c1",
   "metadata": {
    "execution": {
     "iopub.execute_input": "2024-05-26T09:18:12.266316Z",
     "iopub.status.busy": "2024-05-26T09:18:12.265319Z",
     "iopub.status.idle": "2024-05-26T09:18:12.279960Z",
     "shell.execute_reply": "2024-05-26T09:18:12.279960Z",
     "shell.execute_reply.started": "2024-05-26T09:18:12.266316Z"
    }
   },
   "outputs": [],
   "source": [
    "svm = SVC()\n",
    "param_grid = {'C':[0.01,0.1,1,10],'kernel':['linear','rbf']}\n",
    "grid_SVR = GridSearchCV(svm,param_grid)"
   ]
  },
  {
   "cell_type": "code",
   "execution_count": 18,
   "id": "861fef2e-e9b9-4176-9265-acf1cd08b44b",
   "metadata": {
    "execution": {
     "iopub.execute_input": "2024-05-26T09:18:12.281954Z",
     "iopub.status.busy": "2024-05-26T09:18:12.280957Z",
     "iopub.status.idle": "2024-05-26T09:18:12.706266Z",
     "shell.execute_reply": "2024-05-26T09:18:12.704272Z",
     "shell.execute_reply.started": "2024-05-26T09:18:12.281954Z"
    }
   },
   "outputs": [
    {
     "name": "stdout",
     "output_type": "stream",
     "text": [
      "accuracy  85.26785714285714\n",
      "              precision    recall  f1-score   support\n",
      "\n",
      "           N       0.97      0.70      0.82       104\n",
      "           Y       0.79      0.98      0.88       120\n",
      "\n",
      "    accuracy                           0.85       224\n",
      "   macro avg       0.88      0.84      0.85       224\n",
      "weighted avg       0.88      0.85      0.85       224\n",
      "\n"
     ]
    },
    {
     "data": {
      "image/png": "[encoded data removed]",
      "text/plain": [
       "<Figure size 640x480 with 2 Axes>"
      ]
     },
     "metadata": {},
     "output_type": "display_data"
    }
   ],
   "source": [
    "run_model(grid_SVR,X_train,y_train,X_test,y_test)"
   ]
  },
  {
   "cell_type": "code",
   "execution_count": 19,
   "id": "1a83af33-26dd-4e90-9a68-be04e28a0abc",
   "metadata": {
    "execution": {
     "iopub.execute_input": "2024-05-26T09:18:12.708259Z",
     "iopub.status.busy": "2024-05-26T09:18:12.707264Z",
     "iopub.status.idle": "2024-05-26T09:18:12.720228Z",
     "shell.execute_reply": "2024-05-26T09:18:12.720228Z",
     "shell.execute_reply.started": "2024-05-26T09:18:12.708259Z"
    }
   },
   "outputs": [
    {
     "data": {
      "text/plain": [
       "{'C': 0.1, 'kernel': 'linear'}"
      ]
     },
     "execution_count": 19,
     "metadata": {},
     "output_type": "execute_result"
    }
   ],
   "source": [
    "grid_SVR.best_params_"
   ]
  },
  {
   "cell_type": "markdown",
   "id": "a2207bf3-dc71-4b9f-a7ed-a878a82e2dfc",
   "metadata": {},
   "source": [
    "<h3><mark>Random Forest Classifier</mark></h3>"
   ]
  },
  {
   "cell_type": "code",
   "execution_count": 20,
   "id": "a327d65b-185d-45e9-9657-573b1cb50a1a",
   "metadata": {
    "execution": {
     "iopub.execute_input": "2024-05-26T09:18:12.722222Z",
     "iopub.status.busy": "2024-05-26T09:18:12.721238Z",
     "iopub.status.idle": "2024-05-26T09:18:12.736185Z",
     "shell.execute_reply": "2024-05-26T09:18:12.735190Z",
     "shell.execute_reply.started": "2024-05-26T09:18:12.722222Z"
    }
   },
   "outputs": [],
   "source": [
    "from sklearn.ensemble import RandomForestClassifier"
   ]
  },
  {
   "cell_type": "code",
   "execution_count": 21,
   "id": "e3ab47f9-50f9-43fd-b2cf-c05e7547f030",
   "metadata": {
    "execution": {
     "iopub.execute_input": "2024-05-26T09:18:12.737182Z",
     "iopub.status.busy": "2024-05-26T09:18:12.736185Z",
     "iopub.status.idle": "2024-05-26T09:18:12.751151Z",
     "shell.execute_reply": "2024-05-26T09:18:12.751151Z",
     "shell.execute_reply.started": "2024-05-26T09:18:12.737182Z"
    }
   },
   "outputs": [],
   "source": [
    "rf = RandomForestClassifier()"
   ]
  },
  {
   "cell_type": "code",
   "execution_count": 22,
   "id": "0b2a0981-380d-40b6-b6cd-f32c74a523a4",
   "metadata": {
    "execution": {
     "iopub.execute_input": "2024-05-26T09:18:12.752142Z",
     "iopub.status.busy": "2024-05-26T09:18:12.752142Z",
     "iopub.status.idle": "2024-05-26T09:18:12.767107Z",
     "shell.execute_reply": "2024-05-26T09:18:12.767107Z",
     "shell.execute_reply.started": "2024-05-26T09:18:12.752142Z"
    }
   },
   "outputs": [],
   "source": [
    "n_estimators=[1,64,100,128]\n",
    "max_features= [2,3,4]\n",
    "bootstrap = [True,False]"
   ]
  },
  {
   "cell_type": "code",
   "execution_count": 23,
   "id": "ddc89435-31fa-467e-a5a0-b8edb3d5c8d3",
   "metadata": {
    "execution": {
     "iopub.execute_input": "2024-05-26T09:18:12.769098Z",
     "iopub.status.busy": "2024-05-26T09:18:12.768100Z",
     "iopub.status.idle": "2024-05-26T09:18:12.783539Z",
     "shell.execute_reply": "2024-05-26T09:18:12.782540Z",
     "shell.execute_reply.started": "2024-05-26T09:18:12.769098Z"
    }
   },
   "outputs": [],
   "source": [
    "param_grid = {'n_estimators':n_estimators,\n",
    "             'max_features':max_features,\n",
    "             'bootstrap':bootstrap}  # Note, oob_score only makes sense when bootstrap=True!"
   ]
  },
  {
   "cell_type": "code",
   "execution_count": 24,
   "id": "0c1e9e4d-8cda-4db4-895b-f1fc1c4405a4",
   "metadata": {
    "execution": {
     "iopub.execute_input": "2024-05-26T09:18:12.784538Z",
     "iopub.status.busy": "2024-05-26T09:18:12.783539Z",
     "iopub.status.idle": "2024-05-26T09:18:12.799191Z",
     "shell.execute_reply": "2024-05-26T09:18:12.798194Z",
     "shell.execute_reply.started": "2024-05-26T09:18:12.784538Z"
    }
   },
   "outputs": [],
   "source": [
    "grid_RF = GridSearchCV(rf,param_grid)"
   ]
  },
  {
   "cell_type": "code",
   "execution_count": 25,
   "id": "ea52d806-fa3a-4d91-839c-55a36fe1a6af",
   "metadata": {
    "execution": {
     "iopub.execute_input": "2024-05-26T09:18:12.800193Z",
     "iopub.status.busy": "2024-05-26T09:18:12.799191Z",
     "iopub.status.idle": "2024-05-26T09:18:24.473802Z",
     "shell.execute_reply": "2024-05-26T09:18:24.472804Z",
     "shell.execute_reply.started": "2024-05-26T09:18:12.800193Z"
    }
   },
   "outputs": [
    {
     "name": "stdout",
     "output_type": "stream",
     "text": [
      "accuracy  83.03571428571429\n",
      "              precision    recall  f1-score   support\n",
      "\n",
      "           N       0.86      0.76      0.81       104\n",
      "           Y       0.81      0.89      0.85       120\n",
      "\n",
      "    accuracy                           0.83       224\n",
      "   macro avg       0.83      0.83      0.83       224\n",
      "weighted avg       0.83      0.83      0.83       224\n",
      "\n"
     ]
    },
    {
     "data": {
      "image/png": "[encoded data removed]",
      "text/plain": [
       "<Figure size 640x480 with 2 Axes>"
      ]
     },
     "metadata": {},
     "output_type": "display_data"
    }
   ],
   "source": [
    "run_model(grid_RF,X_train,y_train,X_test,y_test)"
   ]
  },
  {
   "cell_type": "code",
   "execution_count": 26,
   "id": "c3532a14-573c-457d-ae83-0d7f7da435db",
   "metadata": {
    "execution": {
     "iopub.execute_input": "2024-05-26T09:18:24.475797Z",
     "iopub.status.busy": "2024-05-26T09:18:24.474800Z",
     "iopub.status.idle": "2024-05-26T09:18:24.489759Z",
     "shell.execute_reply": "2024-05-26T09:18:24.488761Z",
     "shell.execute_reply.started": "2024-05-26T09:18:24.475797Z"
    }
   },
   "outputs": [
    {
     "data": {
      "text/plain": [
       "{'bootstrap': True, 'max_features': 4, 'n_estimators': 64}"
      ]
     },
     "execution_count": 26,
     "metadata": {},
     "output_type": "execute_result"
    }
   ],
   "source": [
    "grid_RF.best_params_"
   ]
  },
  {
   "cell_type": "markdown",
   "id": "0ca2d20e-1469-4356-97e5-1e39d776007d",
   "metadata": {},
   "source": [
    "<h3><mark>Based on above Comparison Random Forest has best performance</mark></h3>"
   ]
  },
  {
   "cell_type": "markdown",
   "id": "6bd75be0-fff4-4aaf-aa3c-f8bd9548b8d8",
   "metadata": {},
   "source": [
    "The Random Forest has better recall for the \"N\" class and a balanced performance across both classes, making it a more robust choice"
   ]
  },
  {
   "cell_type": "markdown",
   "id": "731a244d-5de9-4eab-a268-dd308a22c264",
   "metadata": {
    "execution": {
     "iopub.execute_input": "2024-05-26T09:16:22.220415Z",
     "iopub.status.busy": "2024-05-26T09:16:22.219418Z",
     "iopub.status.idle": "2024-05-26T09:16:22.236372Z",
     "shell.execute_reply": "2024-05-26T09:16:22.235379Z",
     "shell.execute_reply.started": "2024-05-26T09:16:22.220415Z"
    }
   },
   "source": [
    "and ensure fewer false negatives for the \"N\" class."
   ]
  },
  {
   "cell_type": "code",
   "execution_count": 27,
   "id": "55bd0297-ab68-48b3-b50f-3a203910b36f",
   "metadata": {
    "execution": {
     "iopub.execute_input": "2024-05-26T09:18:24.491754Z",
     "iopub.status.busy": "2024-05-26T09:18:24.490755Z",
     "iopub.status.idle": "2024-05-26T09:18:24.505644Z",
     "shell.execute_reply": "2024-05-26T09:18:24.504646Z",
     "shell.execute_reply.started": "2024-05-26T09:18:24.491754Z"
    }
   },
   "outputs": [
    {
     "data": {
      "text/plain": [
       "{'bootstrap': True, 'max_features': 4, 'n_estimators': 64}"
      ]
     },
     "execution_count": 27,
     "metadata": {},
     "output_type": "execute_result"
    }
   ],
   "source": [
    "grid_RF.best_params_"
   ]
  },
  {
   "cell_type": "code",
   "execution_count": 28,
   "id": "231c86ac-e8c0-451c-b184-8c9a7580772a",
   "metadata": {
    "execution": {
     "iopub.execute_input": "2024-05-26T09:18:24.506641Z",
     "iopub.status.busy": "2024-05-26T09:18:24.506641Z",
     "iopub.status.idle": "2024-05-26T09:18:24.520301Z",
     "shell.execute_reply": "2024-05-26T09:18:24.520301Z",
     "shell.execute_reply.started": "2024-05-26T09:18:24.506641Z"
    }
   },
   "outputs": [],
   "source": [
    "preds = grid_RF.predict(X_test)"
   ]
  },
  {
   "cell_type": "code",
   "execution_count": 29,
   "id": "c584c6dd-429d-46ec-800c-e8b23a7f5d7f",
   "metadata": {
    "execution": {
     "iopub.execute_input": "2024-05-26T09:18:24.522295Z",
     "iopub.status.busy": "2024-05-26T09:18:24.521298Z",
     "iopub.status.idle": "2024-05-26T09:18:24.679464Z",
     "shell.execute_reply": "2024-05-26T09:18:24.676599Z",
     "shell.execute_reply.started": "2024-05-26T09:18:24.522295Z"
    }
   },
   "outputs": [
    {
     "name": "stdout",
     "output_type": "stream",
     "text": [
      "              precision    recall  f1-score   support\n",
      "\n",
      "           N       0.86      0.76      0.81       104\n",
      "           Y       0.81      0.89      0.85       120\n",
      "\n",
      "    accuracy                           0.83       224\n",
      "   macro avg       0.83      0.83      0.83       224\n",
      "weighted avg       0.83      0.83      0.83       224\n",
      "\n"
     ]
    },
    {
     "data": {
      "text/plain": [
       "<sklearn.metrics._plot.confusion_matrix.ConfusionMatrixDisplay at 0x165d55372e0>"
      ]
     },
     "execution_count": 29,
     "metadata": {},
     "output_type": "execute_result"
    },
    {
     "data": {
      "image/png": "[encoded data removed]",
      "text/plain": [
       "<Figure size 640x480 with 2 Axes>"
      ]
     },
     "metadata": {},
     "output_type": "display_data"
    }
   ],
   "source": [
    "print(classification_report(y_test,preds))\n",
    "ConfusionMatrixDisplay.from_predictions(y_test,preds)"
   ]
  }
 ],
 "metadata": {
  "kernelspec": {
   "display_name": "Python 3 (ipykernel)",
   "language": "python",
   "name": "python3"
  },
  "language_info": {
   "codemirror_mode": {
    "name": "ipython",
    "version": 3
   },
   "file_extension": ".py",
   "mimetype": "text/x-python",
   "name": "python",
   "nbconvert_exporter": "python",
   "pygments_lexer": "ipython3",
   "version": "3.10.0"
  }
 },
 "nbformat": 4,
 "nbformat_minor": 5
}
